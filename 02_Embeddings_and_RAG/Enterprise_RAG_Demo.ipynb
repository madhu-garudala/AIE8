{
  "cells": [
    {
      "cell_type": "markdown",
      "metadata": {},
      "source": [
        "# Enterprise Search RAG System\n",
        "\n",
        "This notebook demonstrates a comprehensive RAG system designed for enterprise search, supporting multiple document types, metadata filtering, and specialized use cases for company data including office locations, executive information, and organizational details.\n",
        "\n",
        "## Features:\n",
        "- **Multi-format Support**: PDF, DOCX, HTML, TXT, MD files\n",
        "- **Metadata Management**: Department and category-based filtering\n",
        "- **Enterprise Data Search**: Office locations, executive information, company details\n",
        "- **Enhanced Search**: Semantic search with metadata filtering\n",
        "- **Source Attribution**: Track document sources and relevance scores\n",
        "- **Interactive Interface**: User-friendly demo for testing queries\n"
      ]
    },
    {
      "cell_type": "markdown",
      "metadata": {},
      "source": [
        "## 1. Setup and Imports\n"
      ]
    },
    {
      "cell_type": "code",
      "execution_count": null,
      "metadata": {},
      "outputs": [],
      "source": [
        "import asyncio\n",
        "import os\n",
        "from getpass import getpass\n",
        "from aimakerspace.enterprise_rag import EnterpriseKnowledgeManager\n",
        "from aimakerspace.openai_utils.chatmodel import ChatOpenAI\n",
        "from aimakerspace.text_utils import EnterpriseDocumentLoader\n",
        "from aimakerspace.vectordatabase import VectorDatabase\n",
        "\n",
        "# Enable async in Jupyter\n",
        "import nest_asyncio\n",
        "nest_asyncio.apply()\n"
      ]
    }
  ],
  "metadata": {
    "language_info": {
      "name": "python"
    }
  },
  "nbformat": 4,
  "nbformat_minor": 2
}
